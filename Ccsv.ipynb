{
 "cells": [
  {
   "cell_type": "markdown",
   "id": "4c1f606d",
   "metadata": {},
   "source": [
    "# COMBINE 5 EXCEL TO 1 CSV"
   ]
  },
  {
   "cell_type": "code",
   "execution_count": 7,
   "id": "7c7e70da",
   "metadata": {},
   "outputs": [
    {
     "name": "stdout",
     "output_type": "stream",
     "text": [
      "                      Text  Label\n",
      "0               Excuse me.      6\n",
      "1  Do you have your forms?      5\n",
      "2                    Yeah.      6\n",
      "3         Let me see them.      6\n",
      "4      Is there a problem?      5\n"
     ]
    }
   ],
   "source": [
    "import pandas as pd\n",
    "import os\n",
    "\n",
    "# Step 1: Specify the directory containing the Excel files\n",
    "directory_path = 'C:\\\\Users\\\\prana\\\\OneDrive\\\\Desktop\\\\IIT B\\\\dataset'  # Update with the directory containing Excel files\n",
    "\n",
    "# Step 2: List all Excel files in the directory\n",
    "file_names = [f for f in os.listdir(directory_path) if f.endswith('.xlsx') or f.endswith('.xls')]\n",
    "\n",
    "# Step 3: Read and combine all Excel files into a single DataFrame\n",
    "combined_df = pd.DataFrame()\n",
    "\n",
    "for file_name in file_names:\n",
    "    file_path = os.path.join(directory_path, file_name)\n",
    "    df = pd.read_excel(file_path)\n",
    "    combined_df = pd.concat([combined_df, df], ignore_index=True)\n",
    "\n",
    "# Step 4: Save the combined DataFrame to a CSV file\n",
    "output_path = 'C:\\\\Users\\\\prana\\\\OneDrive\\\\Desktop\\\\IIT B\\\\dataset\\\\combined_output.csv'  # Update with the desired output file path\n",
    "combined_df.to_csv(output_path, index=False)\n",
    "\n",
    "# Display the combined DataFrame\n",
    "print(combined_df.head())"
   ]
  }
 ],
 "metadata": {
  "kernelspec": {
   "display_name": "Python 3 (ipykernel)",
   "language": "python",
   "name": "python3"
  },
  "language_info": {
   "codemirror_mode": {
    "name": "ipython",
    "version": 3
   },
   "file_extension": ".py",
   "mimetype": "text/x-python",
   "name": "python",
   "nbconvert_exporter": "python",
   "pygments_lexer": "ipython3",
   "version": "3.9.13"
  }
 },
 "nbformat": 4,
 "nbformat_minor": 5
}
